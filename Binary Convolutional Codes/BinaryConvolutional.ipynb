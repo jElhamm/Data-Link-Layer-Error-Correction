{
  "nbformat": 4,
  "nbformat_minor": 0,
  "metadata": {
    "colab": {
      "provenance": []
    },
    "kernelspec": {
      "name": "python3",
      "display_name": "Python 3"
    },
    "language_info": {
      "name": "python"
    }
  },
  "cells": [
    {
      "cell_type": "code",
      "execution_count": 6,
      "metadata": {
        "id": "ZlpvQDRau13O"
      },
      "outputs": [],
      "source": [
        "#******************************************************************************************************************************************\n",
        "#\n",
        "#                                                     Binary Convolutional Codes                                                          *\n",
        "#                                                                                                                                         *\n",
        "#     This code implements a Binary Convolutional Encoder and Decoder,which are essential components in digital communication systems,    *\n",
        "#          particularly in error control coding schemes. This code implements a basic binary convolutional encoding and                   *\n",
        "#                decoding scheme with error correction using matrix operations. The Viterbi algorithm is used for                         *\n",
        "#                                  decoding to find the most likely path through the trellis.                                             *\n",
        "#\n",
        "#******************************************************************************************************************************************"
      ]
    },
    {
      "cell_type": "code",
      "source": [
        "import numpy as np"
      ],
      "metadata": {
        "id": "YlR-VxlewDmE"
      },
      "execution_count": 7,
      "outputs": []
    },
    {
      "cell_type": "code",
      "source": [
        "class BinaryConvolutionalEncoder:\n",
        "    '''\n",
        "       This class is responsible for encoding input binary data using a generator matrix.\n",
        "       The encode method takes input data, shifts it through a shift register,\n",
        "       and then performs matrix multiplication with the generator matrix to produce encoded data.\n",
        "    '''\n",
        "\n",
        "    def __init__(self, generator_matrix):\n",
        "        self.generator_matrix = generator_matrix\n",
        "\n",
        "    def encode(self, data):                                               # Define a method called encode, which takes data as input\n",
        "        data_length = len(data)                                           # Calculate the length of the input data\n",
        "        state = np.zeros(self.generator_matrix.shape[1], dtype=int)       # Initialize a state array of zeros\n",
        "        encoded_data = []                                                 # Initialize an empty list to store the encoded data\n",
        "        for i in range(data_length):                                      # Iterate over the input data\n",
        "            bit = int(data[i])                                            # Get the current bit from the input data\n",
        "            state = np.roll(state, 1)                                     # Rotate the state array by 1 position to the right\n",
        "            state[0] = bit                                                # Update the first element of the state array with the current bit\n",
        "            encoded_bit = np.dot(self.generator_matrix, state) % 2        # Calculate the encoded bit using matrix multiplication and modulo 2 operation\n",
        "            encoded_data.extend(encoded_bit)                              # Add the encoded bit to the encoded data list\n",
        "\n",
        "        return encoded_data"
      ],
      "metadata": {
        "id": "GLmYhFu3wGrT"
      },
      "execution_count": 8,
      "outputs": []
    },
    {
      "cell_type": "code",
      "source": [
        "class BinaryConvolutionalDecoder:\n",
        "    '''\n",
        "       This class implements a basic decoder for convolutionally encoded data.\n",
        "       The decode method takes received data, performs syndrome calculation using the parity check matrix, and corrects errors if any.\n",
        "    '''\n",
        "\n",
        "\n",
        "    def __init__(self, parity_check_matrix):                              # Constructor method to initialize the decoder with a parity check matrix\n",
        "        self.parity_check_matrix = parity_check_matrix                    # Store the parity check matrix in the decoder object\n",
        "\n",
        "    def decode(self, received_data):                                      # Method to decode received binary data\n",
        "        data_length = len(received_data)                                  # Get the length of the received data\n",
        "        state = np.zeros(self.parity_check_matrix.shape[1], dtype=int)    # Initialize a state array of zeros\n",
        "        decoded_data = []                                                 # Initialize an empty list to store the decoded data\n",
        "        for i in range(data_length):                                      # Iterate over the received data\n",
        "            bit = int(received_data[i])                                   # Get the current bit from the received data\n",
        "            state = np.roll(state, 1)                                     # Rotate the state array by 1 position to the right\n",
        "            state[0] = bit                                                # Update the first element of the state array with the current bit\n",
        "            syndrome = np.dot(self.parity_check_matrix, state) % 2        # Calculate the syndrome using matrix multiplication and modulo 2 operation\n",
        "\n",
        "            if np.count_nonzero(syndrome) == 0:                           # If no errors detected in the syndrome\n",
        "                decoded_data.append(bit)                                  # Append the current bit to the decoded data\n",
        "            else:                                                         # If errors are detected in the syndrome, # Error detected, flipping the bit\n",
        "                bit = 1 - bit                                             # Flip the current bit\n",
        "                decoded_data.append(bit)                                  # Append the corrected bit to the decoded data\n",
        "\n",
        "        return decoded_data\n",
        "\n",
        "\n",
        "    def viterbi_decode(self, received_data):\n",
        "        '''\n",
        "          The viterbi_decode method implements the Viterbi algorithm for convolutional decoding.\n",
        "          It iterates through the received data, calculating branch metrics for each state transition and updating the trellis accordingly.\n",
        "          Then, it backtraces to find the most likely path through the trellis, which represents the decoded data.\n",
        "        '''\n",
        "\n",
        "\n",
        "        trellis = np.zeros((len(received_data) + 1, 2), dtype=int)       # Trellis initialization\n",
        "        decoded_data = []\n",
        "        for i in range(len(received_data)):\n",
        "            bit = int(received_data[i])\n",
        "            branch_metric = np.zeros(2)                                  # Branch metrics for each state transition\n",
        "            for state in range(2):\n",
        "                next_state = (state + bit) % 2                           # Transition to the next state\n",
        "                branch_metric[next_state] = np.count_nonzero(self.parity_check_matrix[next_state] ^ bit)\n",
        "            trellis[i + 1] = trellis[i] + branch_metric                  # Update the trellis with branch metrics\n",
        "\n",
        "        # Backtrace to find the most likely path\n",
        "        state = np.argmin(trellis[-1])                                   # Determine the ending state\n",
        "        for i in range(len(received_data), 0, -1):\n",
        "            state = (state + int(received_data[i - 1])) % 2              # Update the state based on received data\n",
        "            decoded_data.append(state)\n",
        "\n",
        "        decoded_data.reverse()                                           # Reverse the decoded data since we traversed backward\n",
        "        return decoded_data"
      ],
      "metadata": {
        "id": "DXdtjn9CwV67"
      },
      "execution_count": 9,
      "outputs": []
    },
    {
      "cell_type": "code",
      "source": [
        "def  banner():\n",
        "    print(\"\"\"\n",
        "\n",
        "***********************************************************************************************************************************\n",
        "*                                                                                                                                 *\n",
        "*                                              Binary Convolutional Codes                                                         *\n",
        "*                                                                                                                                 *\n",
        "*             This program demonstrates a binary convolutional encoder and Viterbi decoder algorithm implementation.              *\n",
        "*         The encoder takes input binary data and encodes it using a generator matrix. The decoder then decodes received          *\n",
        "*       data using a parity check matrix. You will be prompted to enter the dimensions and elements of the generator matrix       *\n",
        "*           and the parity check matrix. After that, you can input data to be encoded and received data to be decoded.            *\n",
        "*                                                                                                                                 *\n",
        "***********************************************************************************************************************************\n",
        "        \"\"\")\n",
        "\n",
        "def main():\n",
        "    banner()\n",
        "    generator_rows = int(input(\"\\n---> Enter the number of in the generator matrix: \"))\n",
        "    generator_cols = int(input(\"---> Enter the number of columns in the generator matrix: \"))\n",
        "    generator_matrix = np.zeros((generator_rows, generator_cols), dtype=int)\n",
        "    print(\"---> Enter the elements of the generator matrix:\")\n",
        "    for i in range(generator_rows):\n",
        "        for j in range(generator_cols):\n",
        "            generator_matrix[i, j] = int(input(f\"    - Enter element ({i}, {j}): \"))\n",
        "    print(\"**************************************************************************************************************************\\n\")\n",
        "    parity_rows = int(input(\"---> Enter the number of rows in the parity check matrix: \"))\n",
        "    parity_cols = int(input(\"---> Enter the number of columns in the parity check matrix: \"))\n",
        "    parity_check_matrix = np.zeros((parity_rows, parity_cols), dtype=int)\n",
        "    print(\"---> Enter the elements of the parity check matrix:\")\n",
        "    for i in range(parity_rows):\n",
        "        for j in range(parity_cols):\n",
        "            parity_check_matrix[i, j] = int(input(f\"    - Enter element ({i}, {j}): \"))\n",
        "    print(\"**************************************************************************************************************************\\n\")\n",
        "    encoder = BinaryConvolutionalEncoder(generator_matrix)\n",
        "    decoder = BinaryConvolutionalDecoder(parity_check_matrix)\n",
        "    data = input(\"---> Enter the data to be encoded: \")\n",
        "    encoded_data = encoder.encode(data)\n",
        "    print(\"    **** Encoded data:\", encoded_data)\n",
        "    received_data = input(\"---> Enter the received data to be decoded: \")\n",
        "    decoded_data = decoder.viterbi_decode(received_data)\n",
        "    print(\"    **** Decoded data:\", decoded_data)\n",
        "    print(\"**************************************************************************************************************************\")\n",
        "\n",
        "\n",
        "if __name__ == \"__main__\":\n",
        "    main()"
      ],
      "metadata": {
        "colab": {
          "base_uri": "https://localhost:8080/"
        },
        "id": "D1oGUoonxIId",
        "outputId": "5cf7e8aa-5cb6-442b-d655-a006c5a7ae65"
      },
      "execution_count": 10,
      "outputs": [
        {
          "output_type": "stream",
          "name": "stdout",
          "text": [
            "\n",
            "                \n",
            "***********************************************************************************************************************************\n",
            "*                                                                                                                                 *\n",
            "*                                              Binary Convolutional Codes                                                         *\n",
            "*                                                                                                                                 *\n",
            "*             This program demonstrates a binary convolutional encoder and Viterbi decoder algorithm implementation.              *\n",
            "*         The encoder takes input binary data and encodes it using a generator matrix. The decoder then decodes received          *\n",
            "*       data using a parity check matrix. You will be prompted to enter the dimensions and elements of the generator matrix       *\n",
            "*           and the parity check matrix. After that, you can input data to be encoded and received data to be decoded.            *\n",
            "*                                                                                                                                 *\n",
            "***********************************************************************************************************************************\n",
            "        \n",
            "\n",
            "---> Enter the number of in the generator matrix: 2\n",
            "---> Enter the number of columns in the generator matrix: 3\n",
            "---> Enter the elements of the generator matrix:\n",
            "    - Enter element (0, 0): 1\n",
            "    - Enter element (0, 1): 1\n",
            "    - Enter element (0, 2): 1\n",
            "    - Enter element (1, 0): 1\n",
            "    - Enter element (1, 1): 0\n",
            "    - Enter element (1, 2): 1\n",
            "**************************************************************************************************************************\n",
            "\n",
            "---> Enter the number of rows in the parity check matrix: 2\n",
            "---> Enter the number of columns in the parity check matrix: 3\n",
            "---> Enter the elements of the parity check matrix:\n",
            "    - Enter element (0, 0): 1\n",
            "    - Enter element (0, 1): 0\n",
            "    - Enter element (0, 2): 1\n",
            "    - Enter element (1, 0): 1\n",
            "    - Enter element (1, 1): 1\n",
            "    - Enter element (1, 2): 1\n",
            "**************************************************************************************************************************\n",
            "\n",
            "---> Enter the data to be encoded: 100\n",
            "    **** Encoded data: [1, 1, 1, 0, 1, 1]\n",
            "---> Enter the received data to be decoded: 100\n",
            "    **** Decoded data: [1, 0, 0]\n",
            "**************************************************************************************************************************\n"
          ]
        }
      ]
    }
  ]
}