{
  "nbformat": 4,
  "nbformat_minor": 0,
  "metadata": {
    "colab": {
      "provenance": []
    },
    "kernelspec": {
      "name": "python3",
      "display_name": "Python 3"
    },
    "language_info": {
      "name": "python"
    }
  },
  "cells": [
    {
      "cell_type": "code",
      "execution_count": 68,
      "metadata": {
        "id": "qbKIQaagUTCl"
      },
      "outputs": [],
      "source": [
        "#*********************************************************************************************************************************\n",
        "#                                                     Reed Solomon Codes                                                         *\n",
        "#                                                                                                                                *\n",
        "#                     This Python code implements Reed-Solomon error correction for data transmission.                           *\n",
        "#       It encodes data with error correction coding, introduces random errors, and attempts to decode and correct errors.       *\n",
        "#                         Reed-Solomon is vital for data integrity in storage and transmission.                                  *\n",
        "#                                                                                                                                *\n",
        "#*********************************************************************************************************************************"
      ]
    },
    {
      "cell_type": "code",
      "source": [
        "import numpy as np"
      ],
      "metadata": {
        "id": "5-TzJ7LiVdh6"
      },
      "execution_count": 69,
      "outputs": []
    },
    {
      "cell_type": "code",
      "source": [
        "class GaloisField:\n",
        "    @staticmethod\n",
        "    def add(a, b):\n",
        "        return a ^ b                                                # Addition in Galois Field\n",
        "\n",
        "    @staticmethod\n",
        "    def sub(a, b):\n",
        "        return a ^ b                                                # Subtraction in Galois Field\n",
        "\n",
        "    @staticmethod\n",
        "    def mul(a, b):\n",
        "        res = 0                                                     # Initialize the result variable\n",
        "        a = a[0] if isinstance(a, np.ndarray) else a                # Ensure a is a scalar value\n",
        "        b = b[0] if isinstance(b, np.ndarray) else b                # Ensure b is a scalar value\n",
        "        for _ in range(8):\n",
        "            if b & 1:\n",
        "                res ^= a                                            # If the least significant bit of b is 1, XOR a with the result\n",
        "            a <<= 1                                                 # Left shift a by 1 bit\n",
        "            if a & 0x100:\n",
        "                a ^= 0x11d                                          # If a has a degree greater than or equal to 8, # reduce it using the irreducible polynomial x^8 + x^4 + x^3 + x + 1\n",
        "            b >>= 1                                                 # Right shift b by 1 bit\n",
        "        return res                                                  # Return the result of multiplication in the Galois Field\n",
        "\n",
        "\n",
        "    @staticmethod\n",
        "    def div(a, b):\n",
        "        if b == 0:\n",
        "            raise ZeroDivisionError\n",
        "        if a == 0:\n",
        "            return 0\n",
        "        return GaloisField.mul(a, GaloisField.pow(b, 255 - 1))      # Division in Galois Field\n",
        "\n",
        "    @staticmethod\n",
        "    def pow(a, b):\n",
        "        if a == 0:\n",
        "            return 0\n",
        "        if b == 0:\n",
        "            return 1\n",
        "        res = a\n",
        "        for i in range(1, b):\n",
        "            res = GaloisField.mul(res, a)\n",
        "        return res                                                  # Exponentiation in Galois Field"
      ],
      "metadata": {
        "id": "6bc1pAxOVwSu"
      },
      "execution_count": 70,
      "outputs": []
    },
    {
      "cell_type": "code",
      "source": [
        "class ReedSolomonEncoder:\n",
        "    def __init__(self, nsym):\n",
        "        self.nsym = nsym\n",
        "\n",
        "    def encode(self, data):\n",
        "        gen = np.array([1], dtype=int)                                    # Generate the generator polynomial for Reed-Solomon codes\n",
        "        for i in range(1, self.nsym + 1):\n",
        "            # Multiply the generator polynomial by (x + alpha^i), where alpha is a primitive element of the Galois Field\n",
        "            gen = GaloisField.mul(gen, np.array([1, GaloisField.pow(2, i)], dtype=int))\n",
        "\n",
        "        data = np.concatenate((data, np.zeros(self.nsym, dtype=int)))     # Extend the data with zeros to accommodate the additional parity symbols\n",
        "        res = np.zeros(data.size, dtype=int)\n",
        "        for i in range(data.size):                                        # Perform polynomial division (XOR operation) to calculate the remainder\n",
        "            coef = data[i]\n",
        "            if coef != 0:\n",
        "                res[i:i + gen.size] ^= GaloisField.mul(gen, coef)         # XOR each coefficient of the data polynomial with the corresponding coefficient of the generator polynomial\n",
        "\n",
        "        return res\n"
      ],
      "metadata": {
        "id": "wN6c0OzZWTNz"
      },
      "execution_count": 71,
      "outputs": []
    },
    {
      "cell_type": "code",
      "source": [
        "class ReedSolomonDecoder:\n",
        "    def __init__(self, nsym):\n",
        "        self.nsym = nsym\n",
        "\n",
        "    def decode(self, data):\n",
        "        gen = np.array([1], dtype=int)                                             # Generate the generator polynomial for Reed-Solomon codes\n",
        "        for i in range(1, self.nsym + 1):\n",
        "            gen = GaloisField.mul(gen, np.array([1, GaloisField.pow(2, i)], dtype=int))\n",
        "        res = np.zeros(data.size, dtype=int)                                       # Initialize the result array\n",
        "        error = False                                                              # Flag to track if errors are detected\n",
        "        for i in range(data.size):                                                 # Iterate over each symbol in the received data\n",
        "            coef = data[i]                                                         # Get the coefficient of the received symbol\n",
        "            if coef != 0:\n",
        "                res[i:i + gen.size] ^= GaloisField.mul(gen, coef)                  # Perform polynomial division (XOR operation) with the generator polynomial\n",
        "                if np.any(res[i:i + gen.size] != 0):                               # Update error status if any non-zero value detected in the resulting polynomial\n",
        "                    error = True\n",
        "\n",
        "        if error:                                                                  # Check if errors are detected\n",
        "            syndromes = res[-self.nsym:]                                           # Extract syndromes from the resulting polynomial\n",
        "            if not np.any(syndromes):\n",
        "                return data[:-self.nsym]                                           # If syndromes are all zeros, no errors were detected\n",
        "            else:                                                                  # Find the error locator polynomial and locate errors\n",
        "                error_locator = self.find_error_locator(syndromes)\n",
        "                errors = self.find_errors(error_locator)\n",
        "                if len(errors) == len(syndromes):\n",
        "                    corrected_data = data.copy()\n",
        "                    for e in errors:                                               # Correct errors in the received data\n",
        "                        corrected_data[-e - 1] ^= 1                                # Flip the bit to correct the error\n",
        "                    return corrected_data[:-self.nsym]                             # Return the corrected data\n",
        "                else:\n",
        "                    return None                                                    # Unable to correct errors if the number of errors exceeds the number of syndromes\n",
        "        else:\n",
        "            return data[:-self.nsym]                                               # If no errors detected, return the original data\n",
        "\n",
        "\n",
        "    def find_error_locator(self, syndromes):\n",
        "        n = len(syndromes) - 1                                                     # Determine the degree of the syndromes polynomial\n",
        "        loc = np.array([1], dtype=int)                                             # Initialize the error locator polynomial with 1\n",
        "        old_loc = np.array([1], dtype=int)                                         # Initialize the old error locator polynomial with 1\n",
        "        for i in range(n):\n",
        "            old_loc = np.roll(old_loc, 1)                                          # Right shift the old error locator polynomial by 1\n",
        "            delta = syndromes[i]                                                   # Get the current syndrome\n",
        "            for j in range(1, len(old_loc)):\n",
        "                delta ^= GaloisField.mul(old_loc[j], syndromes[i - j])             # Calculate delta using the syndromes and old error locator polynomial\n",
        "            if delta != 0:\n",
        "                if len(old_loc) > len(loc):\n",
        "                    new_loc = GaloisField.mul(old_loc, GaloisField.div(1, delta))  # Calculate the new error locator polynomial\n",
        "                    new_loc ^= loc                                                 # Update the error locator polynomial\n",
        "                    loc, old_loc = old_loc, new_loc                                # Swap the old and new error locator polynomials\n",
        "                loc ^= GaloisField.mul(old_loc, GaloisField.div(1, delta))         # Update the error locator polynomial\n",
        "        return loc                                                                 # Return the final error locator polynomial\n",
        "\n",
        "    def find_errors(self, error_locator):\n",
        "        errors = []                                                                # Initialize the list to store error positions\n",
        "        for i in range(len(error_locator)):\n",
        "            if error_locator[i] != 0:\n",
        "                errors.append(i)                                                   # Add the position to the list if the coefficient is not zero\n",
        "        return errors                                                              # Return the list of error positions\n"
      ],
      "metadata": {
        "id": "fMh7Gco1WXCg"
      },
      "execution_count": 72,
      "outputs": []
    },
    {
      "cell_type": "code",
      "source": [
        "def  banner():\n",
        "    print(\"\"\"\n",
        "\n",
        "*************************************************************************************************************************************\n",
        "*                                                                                                                                   *\n",
        "*                                             --- Reed Solomon Codes ---                                                            *\n",
        "*                                                                                                                                   *\n",
        "*   Reed-Solomon codes are a class of error-correcting codes widely used in digital communication and data storage systems.         *\n",
        "*   They operate by adding redundant symbols to the original data, allowing the receiver to detect and correct errors that          *\n",
        "*   occur during transmission or storage. The key idea behind Reed-Solomon codes is to view the data symbols as coefficients        *\n",
        "*   of a polynomial, where the polynomial represents the data to be transmitted. By introducing additional parity symbols derived   *\n",
        "*   from this polynomial, Reed-Solomon codes create a system of equations that can be solved to correct errors.                     *\n",
        "*                                                                                                                                   *\n",
        "*************************************************************************************************************************************\n",
        "        \"\"\")\n",
        "\n",
        "def main():\n",
        "    banner()\n",
        "    DATA_SIZE = 10\n",
        "    NSYM = 4\n",
        "    data = np.random.randint(0, 256, DATA_SIZE, dtype=int)                          # Generate random data\n",
        "    encoder = ReedSolomonEncoder(NSYM)                                              # Create encoder and decoder instances\n",
        "    decoder = ReedSolomonDecoder(NSYM)\n",
        "    encoded_data = encoder.encode(data)                                             # Encode the data\n",
        "    errors = np.random.randint(0, DATA_SIZE - NSYM, 2, dtype=int)                   # Introduce some random errors to the encoded data\n",
        "    for error_index in errors:\n",
        "        encoded_data[error_index] ^= 1\n",
        "    decoded_data = decoder.decode(encoded_data)                                     # Decode the data with errors\n",
        "    print(\"\\n---> Original Data:\")                                                         # Print the results:\n",
        "    print(data)\n",
        "    print(\"\\n---> Encoded Data:\")\n",
        "    print(encoded_data)\n",
        "    print(\"\\n--->Decoded Data:\")\n",
        "    print(decoded_data)\n",
        "    print(\"\\n***************************************************************************************************************************\\n\")\n",
        "    if np.array_equal(decoded_data, data):                                          # Check if the decoded data matches the original data\n",
        "        print(\"    (  ****  Decoding successful! No errors found.  ****  )\")\n",
        "    else:\n",
        "        print(\"    (  !!!!  Decoding unsuccessful! Errors found and corrected.  !!!!  )\")\n",
        "\n",
        "\n",
        "if __name__ == \"__main__\":\n",
        "    main()"
      ],
      "metadata": {
        "colab": {
          "base_uri": "https://localhost:8080/"
        },
        "id": "Zr9jPn03YglQ",
        "outputId": "d52601c0-5275-4226-ed24-aec43bcf73ca"
      },
      "execution_count": 73,
      "outputs": [
        {
          "output_type": "stream",
          "name": "stdout",
          "text": [
            "\n",
            "                \n",
            "*************************************************************************************************************************************\n",
            "*                                                                                                                                   *\n",
            "*                                             --- Reed Solomon Codes ---                                                            *\n",
            "*                                                                                                                                   *\n",
            "*   Reed-Solomon codes are a class of error-correcting codes widely used in digital communication and data storage systems.         *\n",
            "*   They operate by adding redundant symbols to the original data, allowing the receiver to detect and correct errors that          *\n",
            "*   occur during transmission or storage. The key idea behind Reed-Solomon codes is to view the data symbols as coefficients        *\n",
            "*   of a polynomial, where the polynomial represents the data to be transmitted. By introducing additional parity symbols derived   *\n",
            "*   from this polynomial, Reed-Solomon codes create a system of equations that can be solved to correct errors.                     *\n",
            "*                                                                                                                                   *\n",
            "*************************************************************************************************************************************\n",
            "        \n",
            "\n",
            "---> Original Data:\n",
            "[244  55 228 239   1  50  43 222 248 239]\n",
            "\n",
            "---> Encoded Data:\n",
            "[244  55 228 239   1  50  43 222 248 239   0   0   0   0]\n",
            "\n",
            "--->Decoded Data:\n",
            "[244  55 228 239   1  50  43 222 248 239]\n",
            "\n",
            "***************************************************************************************************************************\n",
            "\n",
            "    (  ****  Decoding successful! No errors found.  ****  )\n"
          ]
        }
      ]
    }
  ]
}