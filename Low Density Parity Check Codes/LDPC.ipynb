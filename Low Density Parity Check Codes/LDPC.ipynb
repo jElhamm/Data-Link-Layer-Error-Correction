{
  "nbformat": 4,
  "nbformat_minor": 0,
  "metadata": {
    "colab": {
      "provenance": []
    },
    "kernelspec": {
      "name": "python3",
      "display_name": "Python 3"
    },
    "language_info": {
      "name": "python"
    }
  },
  "cells": [
    {
      "cell_type": "code",
      "execution_count": 9,
      "metadata": {
        "id": "uh6xtE8i6x3o"
      },
      "outputs": [],
      "source": [
        "#******************************************************************************************************************************************\n",
        "#                                           Low-Density Parity Check Codes (LDPC)                                                         *\n",
        "#                                                                                                                                         *\n",
        "#                      This code exemplifies a basic implementation of LDPC encoding and decoding in Python,                              *\n",
        "#           serving as a demonstration of error detection and correction using LDPC codes in digital communication systems.               *\n",
        "#      The provided Python code defines a class named LDPCSystem that implements encoding and decoding of messages using LDPC codes.      *\n",
        "#\n",
        "#******************************************************************************************************************************************"
      ]
    },
    {
      "cell_type": "code",
      "source": [
        "class LDPCSystem:\n",
        "    '''\n",
        "      Initialize class attributes\n",
        "    '''\n",
        "    def __init__(self):\n",
        "        self.MAX_SIZE = 1000\n",
        "        self.message = ''\n",
        "        self.parity_bits = 0\n",
        "        self.parity = []\n",
        "        self.error_bits = []\n",
        "\n",
        "    def check_even_parity(self):\n",
        "        '''\n",
        "            The check_even_parity method checks if the input message has even parity by counting the number of '1's in the message.\n",
        "        '''\n",
        "        count = self.message.count('1')                                                                  # Count the number of '1's in the message\n",
        "        return count % 2 == 0                                                                            # Check if the count of '1's is even\n",
        "\n",
        "    def encode_LDPC(self):\n",
        "        '''\n",
        "           The encode_LDPC method encodes the input message using LDPC.\n",
        "           It calculates the number of required parity bits, generates the parity bits, adds them to the message, and displays the encoded message.\n",
        "        '''\n",
        "        self.parity_bits = len(self.message) // 2                                                        # Calculate the number of parity bits needed\n",
        "        self.parity = ['0'] * self.parity_bits                                                           # Initialize a list to hold the parity bits\n",
        "        for i in range(self.parity_bits):                                                                # Calculate parity bits\n",
        "            factor = 1 << i\n",
        "            sum_ = sum(int(self.message[j]) for j in range(len(self.message)) if (j + 1) & factor)       # Compute the sum of bits based on the factor\n",
        "            self.parity[i] = str(sum_ % 2)                                                               # Store the parity bit (0 or 1)\n",
        "        print(\"---> Parity bits:\", \" \".join(self.parity))\n",
        "        for i in range(self.parity_bits):                                                                # Add the parity bits to the message\n",
        "            self.message[(1 << i) - 1] = self.parity[i]\n",
        "        print(\"---> Encoded message with LDPC:\", \"\".join(self.message))\n",
        "\n",
        "\n",
        "    def decode_LDPC(self):\n",
        "        '''\n",
        "           The decode_LDPC method checks and corrects errors in the encoded message's parity bits,\n",
        "           if necessary, and displays the detected errors and the corrected message.\n",
        "        '''\n",
        "        self.error_bits = []                                                                             # Initialize a list to store the positions of error bits\n",
        "        for i in range(self.parity_bits):                                                                # Check parity bits for errors and correct them if necessary\n",
        "            factor = 1 << i\n",
        "            sum_ = sum(int(self.message[j]) for j in range(len(self.message)) if (j + 1) & factor)       # Calculate the sum of bits based on the factor\n",
        "            if sum_ % 2 != 0:                                                                            # If the sum is odd, there is an error\n",
        "                self.error_bits.append((1 << i) - 1)                                                     # Record the position of the error bit\n",
        "                self.message[(1 << i) - 1] = '1' if self.message[(1 << i) - 1] == '0' else '0'           # Flip the error bit\n",
        "\n",
        "        # Display\n",
        "        print(\"---> Detected Parity Errors: \", end=\"\")\n",
        "        print(\"Bit \" + \", \".join(str(bit) for bit in self.error_bits) + \", \" if self.error_bits else \"None, \")\n",
        "        print(\"---> Corrected message:\", \"\".join(self.message))"
      ],
      "metadata": {
        "id": "4sAWzCPg83c2"
      },
      "execution_count": 10,
      "outputs": []
    },
    {
      "cell_type": "code",
      "source": [
        "# This code prompts the user to input a message length and message bits.\n",
        "# It then checks the input message for parity and processes it using LDPC encoding and decoding operations.\n",
        "# Finally, it displays appropriate error messages if needed.\n",
        "\n",
        "\n",
        "\n",
        "def  banner():\n",
        "    print(\"\"\"\n",
        "\n",
        "*****************************************************************************************************************************\n",
        "*                                                     ***   Welcome   ***                                                   *\n",
        "*                                           Low-Density Parity Check Codes (LDPC).                                          *\n",
        "*                                                                                                                           *\n",
        "*              LDPC decoding is typically performed using iterative algorithms, such as belief propagation,                 *\n",
        "*             which iteratively refine the estimates of the transmitted bits based on received information.                 *\n",
        "*   These algorithms converge towards the correct codeword, effectively correcting errors introduced during transmission.   *\n",
        "*                                                                                                                           *\n",
        "*****************************************************************************************************************************\n",
        "        \"\"\")\n",
        "\n",
        "def main():\n",
        "    banner()\n",
        "    ldpc_system = LDPCSystem()\n",
        "    print(\"\\n******************************************************************\")\n",
        "    length = int(input(\"---> Enter the length of the message: \"))                                       # Accept the length of the message as input\n",
        "    print(\"\\n---> Enter the message bits (e.g., 101011): \")                                             # Display a message prompt for entering the message bits\n",
        "    ldpc_system.message = list(input())                                                                 # Accept the message bits as input and convert them to a list\n",
        "    print(\"******************************************************************\\n\")\n",
        "    if len(ldpc_system.message) != length:                                                              # Check if the length of the message matches the input length\n",
        "        print(\"  ( ! Error: Length of the message does not match the input ! )\\n\")\n",
        "        return\n",
        "    if not ldpc_system.check_even_parity():                                                             # Check if the input message has even parity\n",
        "        print(\"  ( ! Error: Input message does not have even parity ! )\\n\")\n",
        "        return\n",
        "    ldpc_system.encode_LDPC()                                                                           # Encode the message using LDPC\n",
        "    ldpc_system.decode_LDPC()                                                                           # Decode the message using LDPC\n",
        "    print(\"******************************************************************\\n\")"
      ],
      "metadata": {
        "id": "uGk-RQUF-CNU"
      },
      "execution_count": 11,
      "outputs": []
    },
    {
      "cell_type": "code",
      "source": [
        "if __name__ == \"__main__\":\n",
        "    main()"
      ],
      "metadata": {
        "colab": {
          "base_uri": "https://localhost:8080/"
        },
        "id": "P1gfEP0m-nnm",
        "outputId": "c55f241b-2df6-4745-b889-2c6506a117a0"
      },
      "execution_count": 12,
      "outputs": [
        {
          "output_type": "stream",
          "name": "stdout",
          "text": [
            "\n",
            "                \n",
            "*****************************************************************************************************************************\n",
            "*                                                     ***   Welcome   ***                                                   * \n",
            "*                                           Low-Density Parity Check Codes (LDPC).                                          *\n",
            "*                                                                                                                           *\n",
            "*              LDPC decoding is typically performed using iterative algorithms, such as belief propagation,                 *\n",
            "*             which iteratively refine the estimates of the transmitted bits based on received information.                 *\n",
            "*   These algorithms converge towards the correct codeword, effectively correcting errors introduced during transmission.   *\n",
            "*                                                                                                                           *          \n",
            "*****************************************************************************************************************************\n",
            "        \n",
            "\n",
            "******************************************************************\n",
            "---> Enter the length of the message: 6\n",
            "\n",
            "---> Enter the message bits (e.g., 101011): \n",
            "101011\n",
            "******************************************************************\n",
            "\n",
            "---> Parity bits: 1 0 0\n",
            "---> Encoded message with LDPC: 101011\n",
            "---> Detected Parity Errors: Bit 0, \n",
            "---> Corrected message: 001011\n",
            "******************************************************************\n",
            "\n"
          ]
        }
      ]
    }
  ]
}